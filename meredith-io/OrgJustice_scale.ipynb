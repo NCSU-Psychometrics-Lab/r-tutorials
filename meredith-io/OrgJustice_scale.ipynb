{
 "cells": [
  {
   "cell_type": "markdown",
   "metadata": {},
   "source": [
    "# Differences in Generational Perceptions of Organizational Justice: A Scale Analysis Project"
   ]
  },
  {
   "cell_type": "markdown",
   "metadata": {},
   "source": [
    "This notebook outlines the code used to analyze a variety of organizational psychology scales. The code can be copied and pasted and used at one's discretion; there is also detailed commenting used throughout to help enhance readability and interpretability. Jump right in when ready!"
   ]
  },
  {
   "cell_type": "markdown",
   "metadata": {},
   "source": [
    "### Introduction"
   ]
  },
  {
   "cell_type": "markdown",
   "metadata": {},
   "source": [
    "R, like many programming languages, has a copious selection of packages from which to choose. Packages are essentially bundles of pre-designed code/scripts that are used to accomplish a task. For instance, the ```readr``` package is an assortment of functions used to import a variety of data files (e.g., .csv, .xlsx, .zip, etc.). We will begin by loading some useful packages and no worries, one can also load packages as needed instead of all at once. Some packages have overlapping function names with other packsges and R will notify you of this by printing a messaging displaying what is being masked.\n",
    "\n",
    "The first line in the code block begins with a `#` symbol, signaling to R that the line should be ignored. To uncomment the line and run the code, just simple erase the symbol. **NOTE***: ```install.packages(...)``` needs to only be run once on your local machine because the package will be saved."
   ]
  },
  {
   "cell_type": "code",
   "execution_count": 1,
   "metadata": {},
   "outputs": [
    {
     "name": "stderr",
     "output_type": "stream",
     "text": [
      "\n",
      "Attaching package: ‘dplyr’\n",
      "\n",
      "\n",
      "The following objects are masked from ‘package:stats’:\n",
      "\n",
      "    filter, lag\n",
      "\n",
      "\n",
      "The following objects are masked from ‘package:base’:\n",
      "\n",
      "    intersect, setdiff, setequal, union\n",
      "\n",
      "\n",
      "corrplot 0.84 loaded\n",
      "\n",
      "\n",
      "Attaching package: ‘psych’\n",
      "\n",
      "\n",
      "The following objects are masked from ‘package:ggplot2’:\n",
      "\n",
      "    %+%, alpha\n",
      "\n",
      "\n"
     ]
    }
   ],
   "source": [
    "#install.packages(\"dplyr\", \"readr\", \"stringr\", \"ggplot2\", corrplot\", \"psych\")\n",
    "library(readr)\n",
    "library(dplyr)\n",
    "library(stringr)\n",
    "library(corrplot)\n",
    "library(ggplot2)\n",
    "library(psych)"
   ]
  },
  {
   "cell_type": "markdown",
   "metadata": {},
   "source": [
    "Next, to set the working directory. The working directory is the main folder that holds the relevant files used for our script. In this case, that includes the name of our R file as well as the data set from Qualtrics. \n",
    "\n",
    "For this example, make sure that the Excel file **and** R file are saved in the same folder."
   ]
  },
  {
   "cell_type": "markdown",
   "metadata": {},
   "source": [
    "Set the working directory using R's keybinding (aka keyboard shortcuts)! \n",
    "- Mac: Ctrl + Shift + h\n",
    "- Windows: Ctrl + Shift + h"
   ]
  },
  {
   "cell_type": "markdown",
   "metadata": {},
   "source": [
    "### Data Import & Wrangling"
   ]
  },
  {
   "cell_type": "markdown",
   "metadata": {},
   "source": [
    "Now that the R system is mostly set up, let's moves to importing the data set. R is an object-orientated statistical programming language - the keyphrase here is *object-oriented* because we can name something in R to be later manipulated, transformed, sliced, along with a number of different things. \n",
    "\n",
    "This is one of the main benefits of R, as it grants the software extreme levels of flexibility, especially compared to programs such as Excel of SPSS. One can do both data wrangling and statistical analyses from the same platform."
   ]
  },
  {
   "cell_type": "code",
   "execution_count": 2,
   "metadata": {},
   "outputs": [
    {
     "name": "stderr",
     "output_type": "stream",
     "text": [
      "Parsed with column specification:\n",
      "cols(\n",
      "  .default = col_character()\n",
      ")\n",
      "\n",
      "See spec(...) for full column specifications.\n",
      "\n"
     ]
    }
   ],
   "source": [
    "raw = read_csv(file = \"rawdata.csv\", \n",
    "               col_names = TRUE)"
   ]
  },
  {
   "cell_type": "code",
   "execution_count": 3,
   "metadata": {},
   "outputs": [],
   "source": [
    "rename_at2 = function(data, .vars, .funs) {\n",
    "    stopifnot(length(.vars) == length(.funs))\n",
    "    \n",
    "    for (i in seq_along(.vars)) {\n",
    "        data = rename_at(data, .vars[[i]], .funs[[i]])\n",
    "        }\n",
    "    data\n",
    "}"
   ]
  },
  {
   "cell_type": "code",
   "execution_count": 4,
   "metadata": {},
   "outputs": [],
   "source": [
    "dat = raw %>% \n",
    "    select(Q1_1:D9_2) %>% \n",
    "    slice(-c(1:4)) %>% \n",
    "    rename_at2(\n",
    "        list(vars(starts_with(\"Q1\")), \n",
    "             vars(starts_with(\"Q2\")), \n",
    "             vars(starts_with(\"Q3\")), \n",
    "             vars(starts_with(\"Q4\")), \n",
    "             vars(starts_with(\"Q5\")),\n",
    "             vars(starts_with(\"D\"))),\n",
    "        list(~ str_replace(., \"Q1_\", \"wd\"), \n",
    "             ~ str_replace(., \"Q2_\", \"open\"),\n",
    "             ~ str_replace(., \"Q3_\", \"org_eff\"), \n",
    "             ~ str_replace(., \"Q4_\", \"job_sat\"), \n",
    "             ~ str_replace(., \"Q5-\", \"cmfq\"), \n",
    "             ~ str_replace(., \"D\", \"dem\"))\n",
    "        ) %>% \n",
    "    rename_at2(\n",
    "        list(vars(matches(\"wd4|wd7|wd8\")), \n",
    "             vars(matches(\"open7|open9\")),\n",
    "             vars(matches(\"org_eff1\")),\n",
    "             vars(matches(\"sat2|sat4|sat6|sat10|sat11|sat12\")), \n",
    "             vars(matches(\"cmfq2_2|cmfq2_8|cmfq2_11\"))),\n",
    "        list(~paste0(., \"_R\"), \n",
    "             ~paste0(., \"_R\"),\n",
    "             ~paste0(., \"_R\"),\n",
    "             ~paste0(., \"_R\"), \n",
    "             ~paste0(., \"_R\"))\n",
    "        )"
   ]
  },
  {
   "cell_type": "code",
   "execution_count": 5,
   "metadata": {},
   "outputs": [],
   "source": [
    "unfactorise = function(x) {\n",
    "     case_when(\n",
    "          x %in% c(\"Strongly disagree\", \n",
    "                   \"Disagree strongly\", \n",
    "                   \"Never\", \n",
    "                   \"Disagree very much\", \n",
    "                   \"1\\r\\nNot much like me\") ~ 1, \n",
    "          x %in% c(\"Disagree\", \n",
    "                   \"Disagree a little\", \n",
    "                   \"Rarely\", \n",
    "                   \"Disagree moderately\", \n",
    "                   \"2\\r\\n\") ~ 2,\n",
    "          x %in% c(\"Agree\", \n",
    "                   \"Neither agree nor disagree\", \n",
    "                   \"Sometimes\", \n",
    "                   \"Disagree slightly\", \n",
    "                   \"3\\r\\n\") ~ 3,\n",
    "          x %in% c(\"Strongly agree\", \n",
    "                   \"Agree a little\", \n",
    "                   \"Frequently\", \n",
    "                   \"Agree slightly\", \n",
    "                   \"4\\r\\n\") ~ 4,\n",
    "          x %in% c(\"Agree strongly\", \n",
    "                   \"Agree moderately\", \n",
    "                   \"5\\r\\nVery much like me\") ~ 5,\n",
    "          x %in% c(\"Agree very much\") ~ 6\n",
    "          )\n",
    "    }"
   ]
  },
  {
   "cell_type": "code",
   "execution_count": 6,
   "metadata": {},
   "outputs": [
    {
     "data": {
      "text/html": [
       "<table>\n",
       "<caption>A data.frame: 6 × 58</caption>\n",
       "<thead>\n",
       "\t<tr><th></th><th scope=col>wd1</th><th scope=col>wd2</th><th scope=col>wd3</th><th scope=col>wd4_R</th><th scope=col>wd5</th><th scope=col>wd6</th><th scope=col>wd7_R</th><th scope=col>wd8_R</th><th scope=col>wd9</th><th scope=col>open1</th><th scope=col>⋯</th><th scope=col>cmfq2_2_R</th><th scope=col>cmfq2_3</th><th scope=col>cmfq2_4</th><th scope=col>cmfq2_5</th><th scope=col>cmfq2_6</th><th scope=col>cmfq2_7</th><th scope=col>cmfq2_8_R</th><th scope=col>cmfq2_9</th><th scope=col>cmfq2_10</th><th scope=col>cmfq2_11_R</th></tr>\n",
       "\t<tr><th></th><th scope=col>&lt;dbl&gt;</th><th scope=col>&lt;dbl&gt;</th><th scope=col>&lt;dbl&gt;</th><th scope=col>&lt;dbl&gt;</th><th scope=col>&lt;dbl&gt;</th><th scope=col>&lt;dbl&gt;</th><th scope=col>&lt;dbl&gt;</th><th scope=col>&lt;dbl&gt;</th><th scope=col>&lt;dbl&gt;</th><th scope=col>&lt;dbl&gt;</th><th scope=col>⋯</th><th scope=col>&lt;dbl&gt;</th><th scope=col>&lt;dbl&gt;</th><th scope=col>&lt;dbl&gt;</th><th scope=col>&lt;dbl&gt;</th><th scope=col>&lt;dbl&gt;</th><th scope=col>&lt;dbl&gt;</th><th scope=col>&lt;dbl&gt;</th><th scope=col>&lt;dbl&gt;</th><th scope=col>&lt;dbl&gt;</th><th scope=col>&lt;dbl&gt;</th></tr>\n",
       "</thead>\n",
       "<tbody>\n",
       "\t<tr><th scope=row>1</th><td>3</td><td>3</td><td>2</td><td>1</td><td>3</td><td>4</td><td>3</td><td>2</td><td>3</td><td>4</td><td>⋯</td><td>4</td><td>3</td><td>4</td><td>5</td><td>4</td><td>5</td><td>3</td><td>3</td><td>2</td><td>3</td></tr>\n",
       "\t<tr><th scope=row>2</th><td>4</td><td>2</td><td>3</td><td>4</td><td>1</td><td>4</td><td>3</td><td>1</td><td>2</td><td>4</td><td>⋯</td><td>4</td><td>4</td><td>2</td><td>4</td><td>4</td><td>4</td><td>2</td><td>4</td><td>4</td><td>1</td></tr>\n",
       "\t<tr><th scope=row>3</th><td>3</td><td>2</td><td>2</td><td>2</td><td>2</td><td>3</td><td>2</td><td>2</td><td>2</td><td>4</td><td>⋯</td><td>2</td><td>4</td><td>4</td><td>4</td><td>4</td><td>4</td><td>2</td><td>4</td><td>4</td><td>2</td></tr>\n",
       "\t<tr><th scope=row>4</th><td>4</td><td>2</td><td>2</td><td>3</td><td>3</td><td>3</td><td>2</td><td>2</td><td>2</td><td>4</td><td>⋯</td><td>4</td><td>5</td><td>5</td><td>4</td><td>5</td><td>4</td><td>3</td><td>4</td><td>4</td><td>3</td></tr>\n",
       "\t<tr><th scope=row>5</th><td>3</td><td>3</td><td>2</td><td>2</td><td>2</td><td>4</td><td>2</td><td>4</td><td>4</td><td>5</td><td>⋯</td><td>3</td><td>5</td><td>5</td><td>3</td><td>4</td><td>1</td><td>1</td><td>5</td><td>4</td><td>4</td></tr>\n",
       "\t<tr><th scope=row>6</th><td>3</td><td>3</td><td>2</td><td>3</td><td>2</td><td>4</td><td>2</td><td>2</td><td>2</td><td>4</td><td>⋯</td><td>3</td><td>4</td><td>4</td><td>4</td><td>4</td><td>4</td><td>2</td><td>4</td><td>4</td><td>2</td></tr>\n",
       "</tbody>\n",
       "</table>\n"
      ],
      "text/latex": [
       "A data.frame: 6 × 58\n",
       "\\begin{tabular}{r|lllllllllllllllllllll}\n",
       "  & wd1 & wd2 & wd3 & wd4\\_R & wd5 & wd6 & wd7\\_R & wd8\\_R & wd9 & open1 & ⋯ & cmfq2\\_2\\_R & cmfq2\\_3 & cmfq2\\_4 & cmfq2\\_5 & cmfq2\\_6 & cmfq2\\_7 & cmfq2\\_8\\_R & cmfq2\\_9 & cmfq2\\_10 & cmfq2\\_11\\_R\\\\\n",
       "  & <dbl> & <dbl> & <dbl> & <dbl> & <dbl> & <dbl> & <dbl> & <dbl> & <dbl> & <dbl> & ⋯ & <dbl> & <dbl> & <dbl> & <dbl> & <dbl> & <dbl> & <dbl> & <dbl> & <dbl> & <dbl>\\\\\n",
       "\\hline\n",
       "\t1 & 3 & 3 & 2 & 1 & 3 & 4 & 3 & 2 & 3 & 4 & ⋯ & 4 & 3 & 4 & 5 & 4 & 5 & 3 & 3 & 2 & 3\\\\\n",
       "\t2 & 4 & 2 & 3 & 4 & 1 & 4 & 3 & 1 & 2 & 4 & ⋯ & 4 & 4 & 2 & 4 & 4 & 4 & 2 & 4 & 4 & 1\\\\\n",
       "\t3 & 3 & 2 & 2 & 2 & 2 & 3 & 2 & 2 & 2 & 4 & ⋯ & 2 & 4 & 4 & 4 & 4 & 4 & 2 & 4 & 4 & 2\\\\\n",
       "\t4 & 4 & 2 & 2 & 3 & 3 & 3 & 2 & 2 & 2 & 4 & ⋯ & 4 & 5 & 5 & 4 & 5 & 4 & 3 & 4 & 4 & 3\\\\\n",
       "\t5 & 3 & 3 & 2 & 2 & 2 & 4 & 2 & 4 & 4 & 5 & ⋯ & 3 & 5 & 5 & 3 & 4 & 1 & 1 & 5 & 4 & 4\\\\\n",
       "\t6 & 3 & 3 & 2 & 3 & 2 & 4 & 2 & 2 & 2 & 4 & ⋯ & 3 & 4 & 4 & 4 & 4 & 4 & 2 & 4 & 4 & 2\\\\\n",
       "\\end{tabular}\n"
      ],
      "text/markdown": [
       "\n",
       "A data.frame: 6 × 58\n",
       "\n",
       "| <!--/--> | wd1 &lt;dbl&gt; | wd2 &lt;dbl&gt; | wd3 &lt;dbl&gt; | wd4_R &lt;dbl&gt; | wd5 &lt;dbl&gt; | wd6 &lt;dbl&gt; | wd7_R &lt;dbl&gt; | wd8_R &lt;dbl&gt; | wd9 &lt;dbl&gt; | open1 &lt;dbl&gt; | ⋯ ⋯ | cmfq2_2_R &lt;dbl&gt; | cmfq2_3 &lt;dbl&gt; | cmfq2_4 &lt;dbl&gt; | cmfq2_5 &lt;dbl&gt; | cmfq2_6 &lt;dbl&gt; | cmfq2_7 &lt;dbl&gt; | cmfq2_8_R &lt;dbl&gt; | cmfq2_9 &lt;dbl&gt; | cmfq2_10 &lt;dbl&gt; | cmfq2_11_R &lt;dbl&gt; |\n",
       "|---|---|---|---|---|---|---|---|---|---|---|---|---|---|---|---|---|---|---|---|---|---|\n",
       "| 1 | 3 | 3 | 2 | 1 | 3 | 4 | 3 | 2 | 3 | 4 | ⋯ | 4 | 3 | 4 | 5 | 4 | 5 | 3 | 3 | 2 | 3 |\n",
       "| 2 | 4 | 2 | 3 | 4 | 1 | 4 | 3 | 1 | 2 | 4 | ⋯ | 4 | 4 | 2 | 4 | 4 | 4 | 2 | 4 | 4 | 1 |\n",
       "| 3 | 3 | 2 | 2 | 2 | 2 | 3 | 2 | 2 | 2 | 4 | ⋯ | 2 | 4 | 4 | 4 | 4 | 4 | 2 | 4 | 4 | 2 |\n",
       "| 4 | 4 | 2 | 2 | 3 | 3 | 3 | 2 | 2 | 2 | 4 | ⋯ | 4 | 5 | 5 | 4 | 5 | 4 | 3 | 4 | 4 | 3 |\n",
       "| 5 | 3 | 3 | 2 | 2 | 2 | 4 | 2 | 4 | 4 | 5 | ⋯ | 3 | 5 | 5 | 3 | 4 | 1 | 1 | 5 | 4 | 4 |\n",
       "| 6 | 3 | 3 | 2 | 3 | 2 | 4 | 2 | 2 | 2 | 4 | ⋯ | 3 | 4 | 4 | 4 | 4 | 4 | 2 | 4 | 4 | 2 |\n",
       "\n"
      ],
      "text/plain": [
       "  wd1 wd2 wd3 wd4_R wd5 wd6 wd7_R wd8_R wd9 open1 ⋯ cmfq2_2_R cmfq2_3 cmfq2_4\n",
       "1 3   3   2   1     3   4   3     2     3   4     ⋯ 4         3       4      \n",
       "2 4   2   3   4     1   4   3     1     2   4     ⋯ 4         4       2      \n",
       "3 3   2   2   2     2   3   2     2     2   4     ⋯ 2         4       4      \n",
       "4 4   2   2   3     3   3   2     2     2   4     ⋯ 4         5       5      \n",
       "5 3   3   2   2     2   4   2     4     4   5     ⋯ 3         5       5      \n",
       "6 3   3   2   3     2   4   2     2     2   4     ⋯ 3         4       4      \n",
       "  cmfq2_5 cmfq2_6 cmfq2_7 cmfq2_8_R cmfq2_9 cmfq2_10 cmfq2_11_R\n",
       "1 5       4       5       3         3       2        3         \n",
       "2 4       4       4       2         4       4        1         \n",
       "3 4       4       4       2         4       4        2         \n",
       "4 4       5       4       3         4       4        3         \n",
       "5 3       4       1       1         5       4        4         \n",
       "6 4       4       4       2         4       4        2         "
      ]
     },
     "metadata": {},
     "output_type": "display_data"
    }
   ],
   "source": [
    "vars = data.frame(sapply(subset(dat, select = wd1:cmfq2_11_R), unfactorise))\n",
    "head(vars)"
   ]
  },
  {
   "cell_type": "code",
   "execution_count": 7,
   "metadata": {},
   "outputs": [],
   "source": [
    "mutate_at2 <- function(data, .vars, .funs) {\n",
    "    stopifnot(length(.vars) == length(.funs))\n",
    "    \n",
    "    for (i in seq_along(.vars)) {\n",
    "        data <- mutate_at(data, .vars[[i]], .funs[[i]])\n",
    "        }\n",
    "    data\n",
    "    }"
   ]
  },
  {
   "cell_type": "code",
   "execution_count": 8,
   "metadata": {},
   "outputs": [],
   "source": [
    "vars_final = vars %>% \n",
    "    mutate_at2(\n",
    "        list(c(\"wd4_R\", \"wd7_R\", \"wd8_R\"), \n",
    "             c(\"open7_R\", \"open9_R\"), \n",
    "             c(\"org_eff1_R\"),\n",
    "             c(\"job_sat2_R\", \"job_sat4_R\", \"job_sat6_R\", \"job_sat10_R\", \n",
    "               \"job_sat11_R\", \"job_sat12_R\"), \n",
    "             c(\"cmfq2_2_R\", \"cmfq2_8_R\", \"cmfq2_11_R\")), \n",
    "        list(~ 5 - ., \n",
    "             ~ 6 - ., \n",
    "             ~ 5 - .,\n",
    "             ~ 7 - ., \n",
    "             ~ 6 - .)\n",
    "        )"
   ]
  },
  {
   "cell_type": "code",
   "execution_count": 9,
   "metadata": {},
   "outputs": [
    {
     "name": "stdout",
     "output_type": "stream",
     "text": [
      "Rows: 58\n",
      "Columns: 15\n",
      "$ wd4_R       \u001b[3m\u001b[38;5;246m<dbl>\u001b[39m\u001b[23m 1, 4, 2, 3, 2, 3, 2, 1, 3, 1, 2, 4, 3, 2, 2, 2, 3, 2, 1, …\n",
      "$ wd7_R       \u001b[3m\u001b[38;5;246m<dbl>\u001b[39m\u001b[23m 3, 3, 2, 2, 2, 2, 2, 2, 2, 1, 2, 2, 3, 3, 2, 2, 2, 4, 4, …\n",
      "$ wd8_R       \u001b[3m\u001b[38;5;246m<dbl>\u001b[39m\u001b[23m 2, 1, 2, 2, 4, 2, 2, 3, 3, 3, 3, 2, 3, 2, 1, 4, 3, 2, 1, …\n",
      "$ open7_R     \u001b[3m\u001b[38;5;246m<dbl>\u001b[39m\u001b[23m 4, 4, 3, 2, 3, 3, 1, 5, 3, 2, 2, 4, 4, 4, 4, 1, 4, 1, 5, …\n",
      "$ open9_R     \u001b[3m\u001b[38;5;246m<dbl>\u001b[39m\u001b[23m 4, 4, 3, 2, 4, 2, 2, 1, 2, 3, 2, 4, 2, 4, 4, 2, 1, 1, 1, …\n",
      "$ org_eff1_R  \u001b[3m\u001b[38;5;246m<dbl>\u001b[39m\u001b[23m 3, 4, 2, 2, 2, 4, 2, 2, 3, 3, 3, 3, 3, 2, 3, 2, 3, 3, 1, …\n",
      "$ job_sat2_R  \u001b[3m\u001b[38;5;246m<dbl>\u001b[39m\u001b[23m 3, 2, 2, 4, 1, 2, 2, 3, 2, 3, 2, 4, 6, 2, 1, 2, 2, 2, 1, …\n",
      "$ job_sat4_R  \u001b[3m\u001b[38;5;246m<dbl>\u001b[39m\u001b[23m 6, 4, 4, 5, 3, 4, 6, 5, 4, 4, 3, 2, 5, 3, 4, 5, 2, 4, 3, …\n",
      "$ job_sat6_R  \u001b[3m\u001b[38;5;246m<dbl>\u001b[39m\u001b[23m 5, 2, 3, 5, 1, 5, 3, 4, 4, 3, 2, 2, 5, 2, 4, 3, 2, 4, 3, …\n",
      "$ job_sat10_R \u001b[3m\u001b[38;5;246m<dbl>\u001b[39m\u001b[23m 6, 2, 3, 4, 3, 4, 5, 4, 4, 3, 3, 4, 4, 2, 2, 4, 5, 5, 2, …\n",
      "$ job_sat11_R \u001b[3m\u001b[38;5;246m<dbl>\u001b[39m\u001b[23m 5, 3, 4, 6, 1, 4, 5, 4, 3, 2, 3, 5, 4, 3, 4, 4, 5, 4, 5, …\n",
      "$ job_sat12_R \u001b[3m\u001b[38;5;246m<dbl>\u001b[39m\u001b[23m 2, 3, 3, 2, 1, 5, 4, 4, 2, 3, 2, 6, 4, 2, 5, 2, 4, 3, 1, …\n",
      "$ cmfq2_2_R   \u001b[3m\u001b[38;5;246m<dbl>\u001b[39m\u001b[23m 4, 4, 2, 4, 3, 3, 3, 4, 4, 3, 3, 3, 3, 4, 3, 2, 5, 2, 3, …\n",
      "$ cmfq2_8_R   \u001b[3m\u001b[38;5;246m<dbl>\u001b[39m\u001b[23m 3, 2, 2, 3, 1, 2, 1, 3, 3, 4, 1, 1, 1, 3, 1, 1, 2, 1, 3, …\n",
      "$ cmfq2_11_R  \u001b[3m\u001b[38;5;246m<dbl>\u001b[39m\u001b[23m 3, 1, 2, 3, 4, 2, 2, 5, 3, 3, 1, 4, 1, 3, 2, 3, 3, 1, 4, …\n",
      "Rows: 58\n",
      "Columns: 15\n",
      "$ wd4_R       \u001b[3m\u001b[38;5;246m<dbl>\u001b[39m\u001b[23m 4, 1, 3, 2, 3, 2, 3, 4, 2, 4, 3, 1, 2, 3, 3, 3, 2, 3, 4, …\n",
      "$ wd7_R       \u001b[3m\u001b[38;5;246m<dbl>\u001b[39m\u001b[23m 2, 2, 3, 3, 3, 3, 3, 3, 3, 4, 3, 3, 2, 2, 3, 3, 3, 1, 1, …\n",
      "$ wd8_R       \u001b[3m\u001b[38;5;246m<dbl>\u001b[39m\u001b[23m 3, 4, 3, 3, 1, 3, 3, 2, 2, 2, 2, 3, 2, 3, 4, 1, 2, 3, 4, …\n",
      "$ open7_R     \u001b[3m\u001b[38;5;246m<dbl>\u001b[39m\u001b[23m 2, 2, 3, 4, 3, 3, 5, 1, 3, 4, 4, 2, 2, 2, 2, 5, 2, 5, 1, …\n",
      "$ open9_R     \u001b[3m\u001b[38;5;246m<dbl>\u001b[39m\u001b[23m 2, 2, 3, 4, 2, 4, 4, 5, 4, 3, 4, 2, 4, 2, 2, 4, 5, 5, 5, …\n",
      "$ org_eff1_R  \u001b[3m\u001b[38;5;246m<dbl>\u001b[39m\u001b[23m 2, 1, 3, 3, 3, 1, 3, 3, 2, 2, 2, 2, 2, 3, 2, 3, 2, 2, 4, …\n",
      "$ job_sat2_R  \u001b[3m\u001b[38;5;246m<dbl>\u001b[39m\u001b[23m 4, 5, 5, 3, 6, 5, 5, 4, 5, 4, 5, 3, 1, 5, 6, 5, 5, 5, 6, …\n",
      "$ job_sat4_R  \u001b[3m\u001b[38;5;246m<dbl>\u001b[39m\u001b[23m 1, 3, 3, 2, 4, 3, 1, 2, 3, 3, 4, 5, 2, 4, 3, 2, 5, 3, 4, …\n",
      "$ job_sat6_R  \u001b[3m\u001b[38;5;246m<dbl>\u001b[39m\u001b[23m 2, 5, 4, 2, 6, 2, 4, 3, 3, 4, 5, 5, 2, 5, 3, 4, 5, 3, 4, …\n",
      "$ job_sat10_R \u001b[3m\u001b[38;5;246m<dbl>\u001b[39m\u001b[23m 1, 5, 4, 3, 4, 3, 2, 3, 3, 4, 4, 3, 3, 5, 5, 3, 2, 2, 5, …\n",
      "$ job_sat11_R \u001b[3m\u001b[38;5;246m<dbl>\u001b[39m\u001b[23m 2, 4, 3, 1, 6, 3, 2, 3, 4, 5, 4, 2, 3, 4, 3, 3, 2, 3, 2, …\n",
      "$ job_sat12_R \u001b[3m\u001b[38;5;246m<dbl>\u001b[39m\u001b[23m 5, 4, 4, 5, 6, 2, 3, 3, 5, 4, 5, 1, 3, 5, 2, 5, 3, 4, 6, …\n",
      "$ cmfq2_2_R   \u001b[3m\u001b[38;5;246m<dbl>\u001b[39m\u001b[23m 2, 2, 4, 2, 3, 3, 3, 2, 2, 3, 3, 3, 3, 2, 3, 4, 1, 4, 3, …\n",
      "$ cmfq2_8_R   \u001b[3m\u001b[38;5;246m<dbl>\u001b[39m\u001b[23m 3, 4, 4, 3, 5, 4, 5, 3, 3, 2, 5, 5, 5, 3, 5, 5, 4, 5, 3, …\n",
      "$ cmfq2_11_R  \u001b[3m\u001b[38;5;246m<dbl>\u001b[39m\u001b[23m 3, 5, 4, 3, 2, 4, 4, 1, 3, 3, 5, 2, 5, 3, 4, 3, 3, 5, 2, …\n"
     ]
    }
   ],
   "source": [
    "glimpse(select_at(vars, vars(ends_with(\"_R\"))))\n",
    "glimpse(select_at(vars_final, vars(ends_with(\"_R\"))))"
   ]
  },
  {
   "cell_type": "code",
   "execution_count": 10,
   "metadata": {},
   "outputs": [],
   "source": [
    "varsList = list(\n",
    "    wd = select(vars_final, starts_with(\"wd\")), \n",
    "    open = select(vars_final, starts_with(\"open\")), \n",
    "    org_eff = select(vars_final, starts_with(\"org_eff\")), \n",
    "    job_sat = select(vars_final, starts_with(\"job_sat\")), \n",
    "    cmfq = select(vars_final, starts_with(\"cmfq\")), \n",
    "    dem = select(dat, starts_with(\"dem\"))\n",
    "    )"
   ]
  },
  {
   "cell_type": "code",
   "execution_count": 11,
   "metadata": {},
   "outputs": [],
   "source": [
    "varsList$comps <- as.data.frame(\n",
    "  do.call(cbind, lapply(varsList[-6], \n",
    "                        function(x) rowMeans(x, na.rm = TRUE))\n",
    "          ))"
   ]
  },
  {
   "cell_type": "code",
   "execution_count": 12,
   "metadata": {},
   "outputs": [],
   "source": [
    "#compute correlations for each subscales\n",
    "corrList = lapply(\n",
    "    list(wd = varsList$wd,\n",
    "         open = varsList$open, \n",
    "         org_eff = varsList$org_eff, \n",
    "         job_sat = varsList$job_sat, \n",
    "         cmfq = varsList$cmfq, \n",
    "         comps = varsList$comps),  \n",
    "    #run Pearson correlations on each subscale\n",
    "    function(x) psych::corr.test(x, use = \"pairwise\", \n",
    "                                 method = \"pearson\")\n",
    "    )"
   ]
  },
  {
   "cell_type": "code",
   "execution_count": 16,
   "metadata": {},
   "outputs": [
    {
     "data": {
      "text/html": [
       "<table>\n",
       "<caption>A matrix: 6 × 6 of type dbl</caption>\n",
       "<thead>\n",
       "\t<tr><th></th><th scope=col>org_eff1_R</th><th scope=col>org_eff2</th><th scope=col>org_eff3</th><th scope=col>org_eff4</th><th scope=col>org_eff5</th><th scope=col>org_eff6</th></tr>\n",
       "</thead>\n",
       "<tbody>\n",
       "\t<tr><th scope=row>org_eff1_R</th><td> 1.00000000</td><td> 0.24540971</td><td>0.2269334</td><td> 0.25841727</td><td>-0.1082745</td><td>-0.03328315</td></tr>\n",
       "\t<tr><th scope=row>org_eff2</th><td> 0.24540971</td><td> 1.00000000</td><td>0.1167933</td><td>-0.09707394</td><td>-0.1687429</td><td>-0.18452051</td></tr>\n",
       "\t<tr><th scope=row>org_eff3</th><td> 0.22693338</td><td> 0.11679332</td><td>1.0000000</td><td> 0.67501749</td><td> 0.2033596</td><td> 0.31154009</td></tr>\n",
       "\t<tr><th scope=row>org_eff4</th><td> 0.25841727</td><td>-0.09707394</td><td>0.6750175</td><td> 1.00000000</td><td> 0.2957266</td><td> 0.40501800</td></tr>\n",
       "\t<tr><th scope=row>org_eff5</th><td>-0.10827450</td><td>-0.16874293</td><td>0.2033596</td><td> 0.29572658</td><td> 1.0000000</td><td> 0.27667244</td></tr>\n",
       "\t<tr><th scope=row>org_eff6</th><td>-0.03328315</td><td>-0.18452051</td><td>0.3115401</td><td> 0.40501800</td><td> 0.2766724</td><td> 1.00000000</td></tr>\n",
       "</tbody>\n",
       "</table>\n"
      ],
      "text/latex": [
       "A matrix: 6 × 6 of type dbl\n",
       "\\begin{tabular}{r|llllll}\n",
       "  & org\\_eff1\\_R & org\\_eff2 & org\\_eff3 & org\\_eff4 & org\\_eff5 & org\\_eff6\\\\\n",
       "\\hline\n",
       "\torg\\_eff1\\_R &  1.00000000 &  0.24540971 & 0.2269334 &  0.25841727 & -0.1082745 & -0.03328315\\\\\n",
       "\torg\\_eff2 &  0.24540971 &  1.00000000 & 0.1167933 & -0.09707394 & -0.1687429 & -0.18452051\\\\\n",
       "\torg\\_eff3 &  0.22693338 &  0.11679332 & 1.0000000 &  0.67501749 &  0.2033596 &  0.31154009\\\\\n",
       "\torg\\_eff4 &  0.25841727 & -0.09707394 & 0.6750175 &  1.00000000 &  0.2957266 &  0.40501800\\\\\n",
       "\torg\\_eff5 & -0.10827450 & -0.16874293 & 0.2033596 &  0.29572658 &  1.0000000 &  0.27667244\\\\\n",
       "\torg\\_eff6 & -0.03328315 & -0.18452051 & 0.3115401 &  0.40501800 &  0.2766724 &  1.00000000\\\\\n",
       "\\end{tabular}\n"
      ],
      "text/markdown": [
       "\n",
       "A matrix: 6 × 6 of type dbl\n",
       "\n",
       "| <!--/--> | org_eff1_R | org_eff2 | org_eff3 | org_eff4 | org_eff5 | org_eff6 |\n",
       "|---|---|---|---|---|---|---|\n",
       "| org_eff1_R |  1.00000000 |  0.24540971 | 0.2269334 |  0.25841727 | -0.1082745 | -0.03328315 |\n",
       "| org_eff2 |  0.24540971 |  1.00000000 | 0.1167933 | -0.09707394 | -0.1687429 | -0.18452051 |\n",
       "| org_eff3 |  0.22693338 |  0.11679332 | 1.0000000 |  0.67501749 |  0.2033596 |  0.31154009 |\n",
       "| org_eff4 |  0.25841727 | -0.09707394 | 0.6750175 |  1.00000000 |  0.2957266 |  0.40501800 |\n",
       "| org_eff5 | -0.10827450 | -0.16874293 | 0.2033596 |  0.29572658 |  1.0000000 |  0.27667244 |\n",
       "| org_eff6 | -0.03328315 | -0.18452051 | 0.3115401 |  0.40501800 |  0.2766724 |  1.00000000 |\n",
       "\n"
      ],
      "text/plain": [
       "           org_eff1_R  org_eff2    org_eff3  org_eff4    org_eff5   org_eff6   \n",
       "org_eff1_R  1.00000000  0.24540971 0.2269334  0.25841727 -0.1082745 -0.03328315\n",
       "org_eff2    0.24540971  1.00000000 0.1167933 -0.09707394 -0.1687429 -0.18452051\n",
       "org_eff3    0.22693338  0.11679332 1.0000000  0.67501749  0.2033596  0.31154009\n",
       "org_eff4    0.25841727 -0.09707394 0.6750175  1.00000000  0.2957266  0.40501800\n",
       "org_eff5   -0.10827450 -0.16874293 0.2033596  0.29572658  1.0000000  0.27667244\n",
       "org_eff6   -0.03328315 -0.18452051 0.3115401  0.40501800  0.2766724  1.00000000"
      ]
     },
     "metadata": {},
     "output_type": "display_data"
    }
   ],
   "source": [
    "corrList$org_eff$r"
   ]
  },
  {
   "cell_type": "code",
   "execution_count": null,
   "metadata": {},
   "outputs": [],
   "source": [
    "corrPlots = lapply(corrList, function(x) corrplot(x$r, \n",
    "                                                  method = \"color\", \n",
    "                                                  is.corr = TRUE,\n",
    "                                                  type = \"lower\", \n",
    "                                                  #addCoef.col = \"black\",\n",
    "                                                  number.cex = .4,\n",
    "                                                  tl.col = \"black\", \n",
    "                                                  tl.cex = .60, \n",
    "                                                  tl.srt = 45))"
   ]
  },
  {
   "cell_type": "code",
   "execution_count": null,
   "metadata": {},
   "outputs": [],
   "source": [
    "#parallel analysis of \"hum\" construct items\n",
    "fa.parallel(varsList$cmfq, \n",
    "            main = \"Scree Plot of CMFQ Items\", \n",
    "            ylabel = \"Eigenvalues of Factors\")"
   ]
  },
  {
   "cell_type": "code",
   "execution_count": null,
   "metadata": {},
   "outputs": [],
   "source": []
  }
 ],
 "metadata": {
  "kernelspec": {
   "display_name": "R",
   "language": "R",
   "name": "ir"
  },
  "language_info": {
   "codemirror_mode": "r",
   "file_extension": ".r",
   "mimetype": "text/x-r-source",
   "name": "R",
   "pygments_lexer": "r",
   "version": "3.6.2"
  }
 },
 "nbformat": 4,
 "nbformat_minor": 4
}
