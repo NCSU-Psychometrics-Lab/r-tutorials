{
 "cells": [
  {
   "cell_type": "markdown",
   "metadata": {},
   "source": [
    "# Differences in Generational Perceptions of Organizational Justice: A Scale Analysis Project"
   ]
  },
  {
   "cell_type": "markdown",
   "metadata": {},
   "source": [
    "This notebook outlines the code used to analyze a variety of organizational psychology scales as well as data preprocessing (the more time consuming and difficult portion IMO). The code can be copied and pasted and used at one's discretion; there is also detailed commenting used throughout to help enhance readability and interpretability. Jump right in when ready!"
   ]
  },
  {
   "cell_type": "markdown",
   "metadata": {},
   "source": [
    "### Introduction"
   ]
  },
  {
   "cell_type": "markdown",
   "metadata": {},
   "source": [
    "R, like many programming languages, has a copious selection of packages from which to choose. Packages are essentially bundles of pre-developed code/scripts that are used to accomplish a task. For instance, the ```readr``` package contains an assortment of functions (e.g., ```read_table```, ```read_delim```) used to import a variety of data files (e.g., .csv, .xlsx, .zip, etc.). We will begin by loading some useful packages and no worries, one can also load packages as needed instead of all at once, though the ordering has an effect. \n",
    "\n",
    "Some function names may overlap with other packages and R will notify you of this by printing a message displaying what function name is being masked. To call a specific function from a package, simply type the name of the package followed by two colons and the function name (e.g., ```readr::read_csv()``` (this is considered \"best practice\" in R programming but not often followed from my extensive Google searches). \n",
    "\n",
    "The first line in the code block begins with a `#`, signaling to R that the line should be ignored -- this is also known as *commenting*. To uncomment the line and run the code, simply remove the symbol. \n",
    "\n",
    "**NOTE***: ```install.packages(...)``` needs to only be run once because the packages will be saved to your local machine."
   ]
  },
  {
   "cell_type": "code",
   "execution_count": 1,
   "metadata": {},
   "outputs": [
    {
     "name": "stderr",
     "output_type": "stream",
     "text": [
      "\n",
      "Attaching package: ‘dplyr’\n",
      "\n",
      "\n",
      "The following objects are masked from ‘package:stats’:\n",
      "\n",
      "    filter, lag\n",
      "\n",
      "\n",
      "The following objects are masked from ‘package:base’:\n",
      "\n",
      "    intersect, setdiff, setequal, union\n",
      "\n",
      "\n",
      "corrplot 0.84 loaded\n",
      "\n",
      "\n",
      "Attaching package: ‘psych’\n",
      "\n",
      "\n",
      "The following objects are masked from ‘package:ggplot2’:\n",
      "\n",
      "    %+%, alpha\n",
      "\n",
      "\n"
     ]
    }
   ],
   "source": [
    "#install.packages(\"dplyr\", \"readr\", \"stringr\", \"ggplot2\", corrplot\", \"psych\")\n",
    "library(readr)\n",
    "library(dplyr)\n",
    "library(stringr)\n",
    "library(corrplot)\n",
    "library(ggplot2)\n",
    "library(psych)"
   ]
  },
  {
   "cell_type": "markdown",
   "metadata": {},
   "source": [
    "Next, to set the working directory. The working directory is the main folder that holds the relevant files used within our script. In this case, that includes the name of our R script as well as the data set from Qualtrics.\n",
    "\n",
    "For this example, make sure that the Excel file **and** R file are saved in the same folder wherever that may be on your local machine.\n",
    "\n",
    "Set the working directory using R's keybinding (aka keyboard shortcuts)! \n",
    "- Mac: Ctrl + Shift + h\n",
    "- Windows: Ctrl + Shift + h\n",
    "\n",
    "Typically, it's good practice to have designated folders to hold varying files (data, figs, docs, etc.) but navigating the directory is beyond the scope of this tutorial. Feel free to reach out to me or browse a programmer's most used tool for information -- Google :) "
   ]
  },
  {
   "cell_type": "markdown",
   "metadata": {},
   "source": [
    "### Data Import & Preprocessing"
   ]
  },
  {
   "cell_type": "markdown",
   "metadata": {},
   "source": [
    "Now that the R system is mostly set up, let's move to importing the data set. R is an object-orientated, statistical programming language - the keyphrase here is *object-oriented* because we can name something in R to be later manipulated, transformed, sliced, moved, along with myriad other options. \n",
    "\n",
    "This is one of the main benefits of R, as it grants the software extreme levels of flexibility, especially compared to programs such as Excel of SPSS. One can do both data preprocessing and statistical analyses from the same platform!"
   ]
  },
  {
   "cell_type": "code",
   "execution_count": 2,
   "metadata": {},
   "outputs": [
    {
     "name": "stderr",
     "output_type": "stream",
     "text": [
      "Parsed with column specification:\n",
      "cols(\n",
      "  .default = col_character()\n",
      ")\n",
      "\n",
      "See spec(...) for full column specifications.\n",
      "\n"
     ]
    }
   ],
   "source": [
    "#import data\n",
    "#replace the name of the file w/ the name of your saved file\n",
    "raw = read_csv(file = \"rawdata.csv\", \n",
    "               col_names = TRUE)"
   ]
  },
  {
   "cell_type": "markdown",
   "metadata": {},
   "source": [
    "Fundamentally, everything in R is either an object or a function. Previously we assigned our data set to an *object* named ```raw``` by using the *function* ```read_csv```. \n",
    "\n",
    "Yet another useful feature of R is the ability to build custom functions on the fly that can be saved and used for future instances. Think of the easy functions such as =SUM or =AVG used in Excel but on steroids! There are innumerable configurations because one can even take an already developed function and build them to do things more convenient at the time. \n",
    "\n",
    "Below I am augmenting a function from the ```dplyr``` package called ```rename_at```. Typically, ```rename_at``` has to be called multiple times  by way of the ```%>%``` symbol, but the custom function I built below allows one to change multiple column names based on specific conditions. \n",
    "\n",
    "Try not to get too wrapped up trying to figure out how the function works and just analyze the output. In short, we are taking a column that begins with a sequence of characters and changing the name (i.e., columns that begin with \"Q1\" need to replace the pattern \"Q1_\" with \"wd\")."
   ]
  },
  {
   "cell_type": "code",
   "execution_count": 3,
   "metadata": {},
   "outputs": [],
   "source": [
    "rename_at2 = function(data, .vars, .funs) {\n",
    "    stopifnot(length(.vars) == length(.funs))\n",
    "    \n",
    "    for (i in seq_along(.vars)) {\n",
    "        data = rename_at(data, .vars[[i]], .funs[[i]])\n",
    "        }\n",
    "    data\n",
    "}"
   ]
  },
  {
   "cell_type": "markdown",
   "metadata": {},
   "source": [
    "This is done multiple time and with fewer lines than using ```rename_at``` for EVERY condition we want to change."
   ]
  },
  {
   "cell_type": "code",
   "execution_count": 4,
   "metadata": {},
   "outputs": [],
   "source": [
    "dat = raw %>% \n",
    "    #choose what columns we want to keep from first:last\n",
    "    select(Q1_1:D9_2) %>% \n",
    "    #remove rows 1:4\n",
    "    slice(-c(1:4)) %>%\n",
    "    #use custom function\n",
    "    rename_at2(\n",
    "        list(vars(starts_with(\"Q1\")), \n",
    "             vars(starts_with(\"Q2\")), \n",
    "             vars(starts_with(\"Q3\")), \n",
    "             vars(starts_with(\"Q4\")), \n",
    "             vars(starts_with(\"Q5\")),\n",
    "             vars(starts_with(\"D\"))),\n",
    "        list(~ str_replace(., \"Q1_\", \"wd\"), \n",
    "             ~ str_replace(., \"Q2_\", \"open\"),\n",
    "             ~ str_replace(., \"Q3_\", \"org_eff\"), \n",
    "             ~ str_replace(., \"Q4_\", \"job_sat\"), \n",
    "             ~ str_replace(., \"Q5-\", \"cmfq\"), \n",
    "             ~ str_replace(., \"D\", \"dem\"))\n",
    "        ) %>% \n",
    "    rename_at2(\n",
    "        list(vars(matches(\"wd4|wd7|wd8\")), \n",
    "             vars(matches(\"open7|open9\")),\n",
    "             vars(matches(\"org_eff1\")),\n",
    "             vars(matches(\"sat2|sat4|sat6|sat10|sat11|sat12\")), \n",
    "             vars(matches(\"cmfq2_2|cmfq2_8|cmfq2_11\"))),\n",
    "        list(~paste0(., \"_R\"), \n",
    "             ~paste0(., \"_R\"),\n",
    "             ~paste0(., \"_R\"),\n",
    "             ~paste0(., \"_R\"), \n",
    "             ~paste0(., \"_R\"))\n",
    "        )"
   ]
  },
  {
   "cell_type": "markdown",
   "metadata": {},
   "source": [
    "Now that the columns are renamed, let's move along to changing our values within the data. The data set from Qualtrics used characters (aka letters) to represent responses instead of numbers. Often times, placing content logic and/or specific response coding within Qualtrics can mess up how the data are exported (anecdotally speaking). To circumvent this issue, the actual response text can be exported and wrangled in R. \n",
    "\n",
    "The custom function below uses ```case_when``` to specify when specific strings should be changed to numbers. For example, although each scale has a different set of response options (e.g., 1-4, 1-6, etc.), they are what is known as ordinal variables and thus have an order to them. It's important to maintain this order for our analyses, so each string pattern that is supposed to be the number 1 can be grouped together; each string pattern that is supposed to correspond with a 2 can be grouped together, and so on.\n",
    "\n",
    "Take note, running the function below doesn't actually change any of the values...yet!"
   ]
  },
  {
   "cell_type": "code",
   "execution_count": 5,
   "metadata": {},
   "outputs": [],
   "source": [
    "#custom function to change text to numbers\n",
    "unfactorise = function(x) {\n",
    "     case_when(\n",
    "          x %in% c(\"Strongly disagree\", \n",
    "                   \"Disagree strongly\", \n",
    "                   \"Never\", \n",
    "                   \"Disagree very much\", \n",
    "                   \"1\\r\\nNot much like me\") ~ 1, \n",
    "          x %in% c(\"Disagree\", \n",
    "                   \"Disagree a little\", \n",
    "                   \"Rarely\", \n",
    "                   \"Disagree moderately\", \n",
    "                   \"2\\r\\n\") ~ 2,\n",
    "          x %in% c(\"Agree\", \n",
    "                   \"Neither agree nor disagree\", \n",
    "                   \"Sometimes\", \n",
    "                   \"Disagree slightly\", \n",
    "                   \"3\\r\\n\") ~ 3,\n",
    "          x %in% c(\"Strongly agree\", \n",
    "                   \"Agree a little\", \n",
    "                   \"Frequently\", \n",
    "                   \"Agree slightly\", \n",
    "                   \"4\\r\\n\") ~ 4,\n",
    "          x %in% c(\"Agree strongly\", \n",
    "                   \"Agree moderately\", \n",
    "                   \"5\\r\\nVery much like me\") ~ 5,\n",
    "          x %in% c(\"Agree very much\") ~ 6\n",
    "          )\n",
    "    }"
   ]
  },
  {
   "cell_type": "markdown",
   "metadata": {},
   "source": [
    "Indeed, in order to reap the benefits of the powerful function, it must be applied to the data set! To do this, let's make a new object that will hold the changes. \n",
    "\n",
    "Below, the name ```vars``` is used but feel free to name your objects whatever you like - just be differentiating and clear as not to confuse oneself (it's easy to overwrite an object and lose track of changes!). \n",
    "\n",
    "The next set of code applies the custom ```unfactorise``` function **across** the selected columns```wd:fmfq2_11_R``` and saves these changes in a new data set called ```vars```. "
   ]
  },
  {
   "cell_type": "code",
   "execution_count": 6,
   "metadata": {},
   "outputs": [
    {
     "data": {
      "text/html": [
       "<table>\n",
       "<caption>A data.frame: 6 × 58</caption>\n",
       "<thead>\n",
       "\t<tr><th></th><th scope=col>wd1</th><th scope=col>wd2</th><th scope=col>wd3</th><th scope=col>wd4_R</th><th scope=col>wd5</th><th scope=col>wd6</th><th scope=col>wd7_R</th><th scope=col>wd8_R</th><th scope=col>wd9</th><th scope=col>open1</th><th scope=col>⋯</th><th scope=col>cmfq2_2_R</th><th scope=col>cmfq2_3</th><th scope=col>cmfq2_4</th><th scope=col>cmfq2_5</th><th scope=col>cmfq2_6</th><th scope=col>cmfq2_7</th><th scope=col>cmfq2_8_R</th><th scope=col>cmfq2_9</th><th scope=col>cmfq2_10</th><th scope=col>cmfq2_11_R</th></tr>\n",
       "\t<tr><th></th><th scope=col>&lt;dbl&gt;</th><th scope=col>&lt;dbl&gt;</th><th scope=col>&lt;dbl&gt;</th><th scope=col>&lt;dbl&gt;</th><th scope=col>&lt;dbl&gt;</th><th scope=col>&lt;dbl&gt;</th><th scope=col>&lt;dbl&gt;</th><th scope=col>&lt;dbl&gt;</th><th scope=col>&lt;dbl&gt;</th><th scope=col>&lt;dbl&gt;</th><th scope=col>⋯</th><th scope=col>&lt;dbl&gt;</th><th scope=col>&lt;dbl&gt;</th><th scope=col>&lt;dbl&gt;</th><th scope=col>&lt;dbl&gt;</th><th scope=col>&lt;dbl&gt;</th><th scope=col>&lt;dbl&gt;</th><th scope=col>&lt;dbl&gt;</th><th scope=col>&lt;dbl&gt;</th><th scope=col>&lt;dbl&gt;</th><th scope=col>&lt;dbl&gt;</th></tr>\n",
       "</thead>\n",
       "<tbody>\n",
       "\t<tr><th scope=row>1</th><td>3</td><td>3</td><td>2</td><td>1</td><td>3</td><td>4</td><td>3</td><td>2</td><td>3</td><td>4</td><td>⋯</td><td>4</td><td>3</td><td>4</td><td>5</td><td>4</td><td>5</td><td>3</td><td>3</td><td>2</td><td>3</td></tr>\n",
       "\t<tr><th scope=row>2</th><td>4</td><td>2</td><td>3</td><td>4</td><td>1</td><td>4</td><td>3</td><td>1</td><td>2</td><td>4</td><td>⋯</td><td>4</td><td>4</td><td>2</td><td>4</td><td>4</td><td>4</td><td>2</td><td>4</td><td>4</td><td>1</td></tr>\n",
       "\t<tr><th scope=row>3</th><td>3</td><td>2</td><td>2</td><td>2</td><td>2</td><td>3</td><td>2</td><td>2</td><td>2</td><td>4</td><td>⋯</td><td>2</td><td>4</td><td>4</td><td>4</td><td>4</td><td>4</td><td>2</td><td>4</td><td>4</td><td>2</td></tr>\n",
       "\t<tr><th scope=row>4</th><td>4</td><td>2</td><td>2</td><td>3</td><td>3</td><td>3</td><td>2</td><td>2</td><td>2</td><td>4</td><td>⋯</td><td>4</td><td>5</td><td>5</td><td>4</td><td>5</td><td>4</td><td>3</td><td>4</td><td>4</td><td>3</td></tr>\n",
       "\t<tr><th scope=row>5</th><td>3</td><td>3</td><td>2</td><td>2</td><td>2</td><td>4</td><td>2</td><td>4</td><td>4</td><td>5</td><td>⋯</td><td>3</td><td>5</td><td>5</td><td>3</td><td>4</td><td>1</td><td>1</td><td>5</td><td>4</td><td>4</td></tr>\n",
       "\t<tr><th scope=row>6</th><td>3</td><td>3</td><td>2</td><td>3</td><td>2</td><td>4</td><td>2</td><td>2</td><td>2</td><td>4</td><td>⋯</td><td>3</td><td>4</td><td>4</td><td>4</td><td>4</td><td>4</td><td>2</td><td>4</td><td>4</td><td>2</td></tr>\n",
       "</tbody>\n",
       "</table>\n"
      ],
      "text/latex": [
       "A data.frame: 6 × 58\n",
       "\\begin{tabular}{r|lllllllllllllllllllll}\n",
       "  & wd1 & wd2 & wd3 & wd4\\_R & wd5 & wd6 & wd7\\_R & wd8\\_R & wd9 & open1 & ⋯ & cmfq2\\_2\\_R & cmfq2\\_3 & cmfq2\\_4 & cmfq2\\_5 & cmfq2\\_6 & cmfq2\\_7 & cmfq2\\_8\\_R & cmfq2\\_9 & cmfq2\\_10 & cmfq2\\_11\\_R\\\\\n",
       "  & <dbl> & <dbl> & <dbl> & <dbl> & <dbl> & <dbl> & <dbl> & <dbl> & <dbl> & <dbl> & ⋯ & <dbl> & <dbl> & <dbl> & <dbl> & <dbl> & <dbl> & <dbl> & <dbl> & <dbl> & <dbl>\\\\\n",
       "\\hline\n",
       "\t1 & 3 & 3 & 2 & 1 & 3 & 4 & 3 & 2 & 3 & 4 & ⋯ & 4 & 3 & 4 & 5 & 4 & 5 & 3 & 3 & 2 & 3\\\\\n",
       "\t2 & 4 & 2 & 3 & 4 & 1 & 4 & 3 & 1 & 2 & 4 & ⋯ & 4 & 4 & 2 & 4 & 4 & 4 & 2 & 4 & 4 & 1\\\\\n",
       "\t3 & 3 & 2 & 2 & 2 & 2 & 3 & 2 & 2 & 2 & 4 & ⋯ & 2 & 4 & 4 & 4 & 4 & 4 & 2 & 4 & 4 & 2\\\\\n",
       "\t4 & 4 & 2 & 2 & 3 & 3 & 3 & 2 & 2 & 2 & 4 & ⋯ & 4 & 5 & 5 & 4 & 5 & 4 & 3 & 4 & 4 & 3\\\\\n",
       "\t5 & 3 & 3 & 2 & 2 & 2 & 4 & 2 & 4 & 4 & 5 & ⋯ & 3 & 5 & 5 & 3 & 4 & 1 & 1 & 5 & 4 & 4\\\\\n",
       "\t6 & 3 & 3 & 2 & 3 & 2 & 4 & 2 & 2 & 2 & 4 & ⋯ & 3 & 4 & 4 & 4 & 4 & 4 & 2 & 4 & 4 & 2\\\\\n",
       "\\end{tabular}\n"
      ],
      "text/markdown": [
       "\n",
       "A data.frame: 6 × 58\n",
       "\n",
       "| <!--/--> | wd1 &lt;dbl&gt; | wd2 &lt;dbl&gt; | wd3 &lt;dbl&gt; | wd4_R &lt;dbl&gt; | wd5 &lt;dbl&gt; | wd6 &lt;dbl&gt; | wd7_R &lt;dbl&gt; | wd8_R &lt;dbl&gt; | wd9 &lt;dbl&gt; | open1 &lt;dbl&gt; | ⋯ ⋯ | cmfq2_2_R &lt;dbl&gt; | cmfq2_3 &lt;dbl&gt; | cmfq2_4 &lt;dbl&gt; | cmfq2_5 &lt;dbl&gt; | cmfq2_6 &lt;dbl&gt; | cmfq2_7 &lt;dbl&gt; | cmfq2_8_R &lt;dbl&gt; | cmfq2_9 &lt;dbl&gt; | cmfq2_10 &lt;dbl&gt; | cmfq2_11_R &lt;dbl&gt; |\n",
       "|---|---|---|---|---|---|---|---|---|---|---|---|---|---|---|---|---|---|---|---|---|---|\n",
       "| 1 | 3 | 3 | 2 | 1 | 3 | 4 | 3 | 2 | 3 | 4 | ⋯ | 4 | 3 | 4 | 5 | 4 | 5 | 3 | 3 | 2 | 3 |\n",
       "| 2 | 4 | 2 | 3 | 4 | 1 | 4 | 3 | 1 | 2 | 4 | ⋯ | 4 | 4 | 2 | 4 | 4 | 4 | 2 | 4 | 4 | 1 |\n",
       "| 3 | 3 | 2 | 2 | 2 | 2 | 3 | 2 | 2 | 2 | 4 | ⋯ | 2 | 4 | 4 | 4 | 4 | 4 | 2 | 4 | 4 | 2 |\n",
       "| 4 | 4 | 2 | 2 | 3 | 3 | 3 | 2 | 2 | 2 | 4 | ⋯ | 4 | 5 | 5 | 4 | 5 | 4 | 3 | 4 | 4 | 3 |\n",
       "| 5 | 3 | 3 | 2 | 2 | 2 | 4 | 2 | 4 | 4 | 5 | ⋯ | 3 | 5 | 5 | 3 | 4 | 1 | 1 | 5 | 4 | 4 |\n",
       "| 6 | 3 | 3 | 2 | 3 | 2 | 4 | 2 | 2 | 2 | 4 | ⋯ | 3 | 4 | 4 | 4 | 4 | 4 | 2 | 4 | 4 | 2 |\n",
       "\n"
      ],
      "text/plain": [
       "  wd1 wd2 wd3 wd4_R wd5 wd6 wd7_R wd8_R wd9 open1 ⋯ cmfq2_2_R cmfq2_3 cmfq2_4\n",
       "1 3   3   2   1     3   4   3     2     3   4     ⋯ 4         3       4      \n",
       "2 4   2   3   4     1   4   3     1     2   4     ⋯ 4         4       2      \n",
       "3 3   2   2   2     2   3   2     2     2   4     ⋯ 2         4       4      \n",
       "4 4   2   2   3     3   3   2     2     2   4     ⋯ 4         5       5      \n",
       "5 3   3   2   2     2   4   2     4     4   5     ⋯ 3         5       5      \n",
       "6 3   3   2   3     2   4   2     2     2   4     ⋯ 3         4       4      \n",
       "  cmfq2_5 cmfq2_6 cmfq2_7 cmfq2_8_R cmfq2_9 cmfq2_10 cmfq2_11_R\n",
       "1 5       4       5       3         3       2        3         \n",
       "2 4       4       4       2         4       4        1         \n",
       "3 4       4       4       2         4       4        2         \n",
       "4 4       5       4       3         4       4        3         \n",
       "5 3       4       1       1         5       4        4         \n",
       "6 4       4       4       2         4       4        2         "
      ]
     },
     "metadata": {},
     "output_type": "display_data"
    }
   ],
   "source": [
    "#new object with number values\n",
    "vars = data.frame(sapply(subset(dat, select = wd1:cmfq2_11_R), unfactorise))\n",
    "\n",
    "#take a peek!\n",
    "head(vars)"
   ]
  },
  {
   "cell_type": "markdown",
   "metadata": {},
   "source": [
    "Our data set is coming together and almost ready for analysis!\n",
    "\n",
    "In order to analyze and draw useful inferences from the data, the scales must be representative of the constructs of interest. That means all items are scored appropriately and reverse coded ones need to be adjusted.\n",
    "\n",
    "Luckily as I-O psychologists, we encounter (and build) scales with reverse coded items all the time. An example of a reverse coded item is \"I prefer to be alone in my free time\" when measuring something like extroversion; individuals high on extroversion are more likely to report lower level responses to the aforementioned item stem. This will misconstrue subsequent item correlations and other analyses if it is not accounted for, so it's an extremely important step in preprocessing survey data.\n",
    "\n",
    "Many surveys will use negatively valenced words such as \"not\" or \"never\" to connote a reverse coded item (much to the chagrin of survey researchers). The better practice is to stick with solely using positive language but adjusting the spectrum of interest. Think back on the previous example (\"I prefer to be alone in my free time\") -- negatively valenced language is avoided and instead the focus is on the opposite spectrum of extroversion (i.e., introversion); thus someone high on introversion is more likely to report a higher level for the item.\n",
    "\n",
    "The custom function below allows us to adjust our reverse coded items (labeled ```_R``` for each group of subscales. Workplace discrimination (wd) has a 4-point Likert-type response option format whereas job satisfaction (job_sat) has a 6-point. It's really easy math to handle a reverse coded item ((response option max value + 1) - current value)."
   ]
  },
  {
   "cell_type": "code",
   "execution_count": 7,
   "metadata": {},
   "outputs": [],
   "source": [
    "#custom function to change values\n",
    "mutate_at2 <- function(data, .vars, .funs) {\n",
    "    stopifnot(length(.vars) == length(.funs))\n",
    "    \n",
    "    for (i in seq_along(.vars)) {\n",
    "        data <- mutate_at(data, .vars[[i]], .funs[[i]])\n",
    "        }\n",
    "    data\n",
    "    }"
   ]
  },
  {
   "cell_type": "markdown",
   "metadata": {},
   "source": [
    "This math is applied to a set of specified columns (```_R```) within each subscale. Instead of overwriting the ```vars``` object, we set a new object that copies the original data set **and** the reverse coded changes called ```vars_final```."
   ]
  },
  {
   "cell_type": "code",
   "execution_count": 8,
   "metadata": {},
   "outputs": [],
   "source": [
    "vars_final = vars %>% \n",
    "    mutate_at2(\n",
    "        list(c(\"wd4_R\", \"wd7_R\", \"wd8_R\"), \n",
    "             c(\"open7_R\", \"open9_R\"), \n",
    "             c(\"org_eff1_R\"),\n",
    "             c(\"job_sat2_R\", \"job_sat4_R\", \"job_sat6_R\", \"job_sat10_R\", \n",
    "               \"job_sat11_R\", \"job_sat12_R\"), \n",
    "             c(\"cmfq2_2_R\", \"cmfq2_8_R\", \"cmfq2_11_R\")), \n",
    "        list(~ 5 - ., \n",
    "             ~ 6 - ., \n",
    "             ~ 5 - .,\n",
    "             ~ 7 - ., \n",
    "             ~ 6 - .)\n",
    "        ) %>% \n",
    "    na.omit"
   ]
  },
  {
   "cell_type": "markdown",
   "metadata": {},
   "source": [
    "The data preprocessing is now complete! Using the ```glimpse``` function and selecting only the columns that end with ```_R```, one can review if the changes worked effectively across both data sets (i.e., before and after reverse coding). "
   ]
  },
  {
   "cell_type": "code",
   "execution_count": 9,
   "metadata": {},
   "outputs": [
    {
     "name": "stdout",
     "output_type": "stream",
     "text": [
      "Rows: 58\n",
      "Columns: 15\n",
      "$ wd4_R       \u001b[3m\u001b[38;5;246m<dbl>\u001b[39m\u001b[23m 1, 4, 2, 3, 2, 3, 2, 1, 3, 1, 2, 4, 3, 2, 2, 2, 3, 2, 1, …\n",
      "$ wd7_R       \u001b[3m\u001b[38;5;246m<dbl>\u001b[39m\u001b[23m 3, 3, 2, 2, 2, 2, 2, 2, 2, 1, 2, 2, 3, 3, 2, 2, 2, 4, 4, …\n",
      "$ wd8_R       \u001b[3m\u001b[38;5;246m<dbl>\u001b[39m\u001b[23m 2, 1, 2, 2, 4, 2, 2, 3, 3, 3, 3, 2, 3, 2, 1, 4, 3, 2, 1, …\n",
      "$ open7_R     \u001b[3m\u001b[38;5;246m<dbl>\u001b[39m\u001b[23m 4, 4, 3, 2, 3, 3, 1, 5, 3, 2, 2, 4, 4, 4, 4, 1, 4, 1, 5, …\n",
      "$ open9_R     \u001b[3m\u001b[38;5;246m<dbl>\u001b[39m\u001b[23m 4, 4, 3, 2, 4, 2, 2, 1, 2, 3, 2, 4, 2, 4, 4, 2, 1, 1, 1, …\n",
      "$ org_eff1_R  \u001b[3m\u001b[38;5;246m<dbl>\u001b[39m\u001b[23m 3, 4, 2, 2, 2, 4, 2, 2, 3, 3, 3, 3, 3, 2, 3, 2, 3, 3, 1, …\n",
      "$ job_sat2_R  \u001b[3m\u001b[38;5;246m<dbl>\u001b[39m\u001b[23m 3, 2, 2, 4, 1, 2, 2, 3, 2, 3, 2, 4, 6, 2, 1, 2, 2, 2, 1, …\n",
      "$ job_sat4_R  \u001b[3m\u001b[38;5;246m<dbl>\u001b[39m\u001b[23m 6, 4, 4, 5, 3, 4, 6, 5, 4, 4, 3, 2, 5, 3, 4, 5, 2, 4, 3, …\n",
      "$ job_sat6_R  \u001b[3m\u001b[38;5;246m<dbl>\u001b[39m\u001b[23m 5, 2, 3, 5, 1, 5, 3, 4, 4, 3, 2, 2, 5, 2, 4, 3, 2, 4, 3, …\n",
      "$ job_sat10_R \u001b[3m\u001b[38;5;246m<dbl>\u001b[39m\u001b[23m 6, 2, 3, 4, 3, 4, 5, 4, 4, 3, 3, 4, 4, 2, 2, 4, 5, 5, 2, …\n",
      "$ job_sat11_R \u001b[3m\u001b[38;5;246m<dbl>\u001b[39m\u001b[23m 5, 3, 4, 6, 1, 4, 5, 4, 3, 2, 3, 5, 4, 3, 4, 4, 5, 4, 5, …\n",
      "$ job_sat12_R \u001b[3m\u001b[38;5;246m<dbl>\u001b[39m\u001b[23m 2, 3, 3, 2, 1, 5, 4, 4, 2, 3, 2, 6, 4, 2, 5, 2, 4, 3, 1, …\n",
      "$ cmfq2_2_R   \u001b[3m\u001b[38;5;246m<dbl>\u001b[39m\u001b[23m 4, 4, 2, 4, 3, 3, 3, 4, 4, 3, 3, 3, 3, 4, 3, 2, 5, 2, 3, …\n",
      "$ cmfq2_8_R   \u001b[3m\u001b[38;5;246m<dbl>\u001b[39m\u001b[23m 3, 2, 2, 3, 1, 2, 1, 3, 3, 4, 1, 1, 1, 3, 1, 1, 2, 1, 3, …\n",
      "$ cmfq2_11_R  \u001b[3m\u001b[38;5;246m<dbl>\u001b[39m\u001b[23m 3, 1, 2, 3, 4, 2, 2, 5, 3, 3, 1, 4, 1, 3, 2, 3, 3, 1, 4, …\n",
      "Rows: 56\n",
      "Columns: 15\n",
      "$ wd4_R       \u001b[3m\u001b[38;5;246m<dbl>\u001b[39m\u001b[23m 4, 1, 3, 2, 3, 2, 3, 4, 2, 4, 3, 1, 2, 3, 3, 3, 2, 3, 4, …\n",
      "$ wd7_R       \u001b[3m\u001b[38;5;246m<dbl>\u001b[39m\u001b[23m 2, 2, 3, 3, 3, 3, 3, 3, 3, 4, 3, 3, 2, 2, 3, 3, 3, 1, 1, …\n",
      "$ wd8_R       \u001b[3m\u001b[38;5;246m<dbl>\u001b[39m\u001b[23m 3, 4, 3, 3, 1, 3, 3, 2, 2, 2, 2, 3, 2, 3, 4, 1, 2, 3, 4, …\n",
      "$ open7_R     \u001b[3m\u001b[38;5;246m<dbl>\u001b[39m\u001b[23m 2, 2, 3, 4, 3, 3, 5, 1, 3, 4, 4, 2, 2, 2, 2, 5, 2, 5, 1, …\n",
      "$ open9_R     \u001b[3m\u001b[38;5;246m<dbl>\u001b[39m\u001b[23m 2, 2, 3, 4, 2, 4, 4, 5, 4, 3, 4, 2, 4, 2, 2, 4, 5, 5, 5, …\n",
      "$ org_eff1_R  \u001b[3m\u001b[38;5;246m<dbl>\u001b[39m\u001b[23m 2, 1, 3, 3, 3, 1, 3, 3, 2, 2, 2, 2, 2, 3, 2, 3, 2, 2, 4, …\n",
      "$ job_sat2_R  \u001b[3m\u001b[38;5;246m<dbl>\u001b[39m\u001b[23m 4, 5, 5, 3, 6, 5, 5, 4, 5, 4, 5, 3, 1, 5, 6, 5, 5, 5, 6, …\n",
      "$ job_sat4_R  \u001b[3m\u001b[38;5;246m<dbl>\u001b[39m\u001b[23m 1, 3, 3, 2, 4, 3, 1, 2, 3, 3, 4, 5, 2, 4, 3, 2, 5, 3, 4, …\n",
      "$ job_sat6_R  \u001b[3m\u001b[38;5;246m<dbl>\u001b[39m\u001b[23m 2, 5, 4, 2, 6, 2, 4, 3, 3, 4, 5, 5, 2, 5, 3, 4, 5, 3, 4, …\n",
      "$ job_sat10_R \u001b[3m\u001b[38;5;246m<dbl>\u001b[39m\u001b[23m 1, 5, 4, 3, 4, 3, 2, 3, 3, 4, 4, 3, 3, 5, 5, 3, 2, 2, 5, …\n",
      "$ job_sat11_R \u001b[3m\u001b[38;5;246m<dbl>\u001b[39m\u001b[23m 2, 4, 3, 1, 6, 3, 2, 3, 4, 5, 4, 2, 3, 4, 3, 3, 2, 3, 2, …\n",
      "$ job_sat12_R \u001b[3m\u001b[38;5;246m<dbl>\u001b[39m\u001b[23m 5, 4, 4, 5, 6, 2, 3, 3, 5, 4, 5, 1, 3, 5, 2, 5, 3, 4, 6, …\n",
      "$ cmfq2_2_R   \u001b[3m\u001b[38;5;246m<dbl>\u001b[39m\u001b[23m 2, 2, 4, 2, 3, 3, 3, 2, 2, 3, 3, 3, 3, 2, 3, 4, 1, 4, 3, …\n",
      "$ cmfq2_8_R   \u001b[3m\u001b[38;5;246m<dbl>\u001b[39m\u001b[23m 3, 4, 4, 3, 5, 4, 5, 3, 3, 2, 5, 5, 5, 3, 5, 5, 4, 5, 3, …\n",
      "$ cmfq2_11_R  \u001b[3m\u001b[38;5;246m<dbl>\u001b[39m\u001b[23m 3, 5, 4, 3, 2, 4, 4, 1, 3, 3, 5, 2, 5, 3, 4, 3, 3, 5, 2, …\n"
     ]
    }
   ],
   "source": [
    "glimpse(select_at(vars, vars(ends_with(\"_R\"))))\n",
    "glimpse(select_at(vars_final, vars(ends_with(\"_R\"))))"
   ]
  },
  {
   "cell_type": "markdown",
   "metadata": {},
   "source": [
    "### Data Analysis"
   ]
  },
  {
   "cell_type": "markdown",
   "metadata": {},
   "source": [
    "Now that preprocessing is complete, we can move into our analyses. R, in all its glory, is very much a statistical language and though it takes a while to format the data, it is generally much easier to run analytic procedures. \n",
    "\n",
    "First, each scale is individually saved within a list called ```varsList```. Data structures are outside of the scope of this tutorial, but just know that data frames and lists are examples of them. Data frames (with which most of us are accustomed to using) can be stored in lists and called upon individually (similar to how we can call out specific rows and columns from a data frame). \n",
    "\n",
    "The code selects columns that all begin with the same prefix from our ```vars_final``` data set and saves them in the list."
   ]
  },
  {
   "cell_type": "code",
   "execution_count": 10,
   "metadata": {},
   "outputs": [],
   "source": [
    "varsList = list(\n",
    "    wd = select(vars_final, starts_with(\"wd\")), \n",
    "    open = select(vars_final, starts_with(\"open\")), \n",
    "    org_eff = select(vars_final, starts_with(\"org_eff\")), \n",
    "    job_sat = select(vars_final, starts_with(\"job_sat\")), \n",
    "    cmfq = select(vars_final, starts_with(\"cmfq\")), \n",
    "    dem = select(dat, starts_with(\"dem\"))\n",
    "    )"
   ]
  },
  {
   "cell_type": "markdown",
   "metadata": {},
   "source": [
    "We now how our individual scales but it would be nice to have composite scores for each one as well. No fear this can easily be done -- \"easily\" means the computer can do it with little effort if we can generate the correct set of instructions. \n",
    "\n",
    "The code below does the following: \n",
    "1. Creates a new object in ```varsList``` called ```comps```\n",
    "2. Uses the function ```rowMeans``` to generate scale scores (means) and removes missing values via ```na.rm = TRUE``` across (next step)\n",
    "3. all the data frames separately **except** the 6th data frame (i.e., ```dem```)\n",
    "4. Then combines the calculations into a new data frame\n",
    "\n",
    "The result should be a new data frame with only our scale scores for each individual (*n* = 58) "
   ]
  },
  {
   "cell_type": "code",
   "execution_count": 11,
   "metadata": {},
   "outputs": [],
   "source": [
    "varsList$comps <- as.data.frame(\n",
    "  do.call(cbind, lapply(varsList[-6], \n",
    "                        function(x) rowMeans(x, na.rm = TRUE))\n",
    "          ))"
   ]
  },
  {
   "cell_type": "markdown",
   "metadata": {},
   "source": [
    "We can review the new data set by specifically calling it using the ```$``` symbol. The ```$``` symbol can be used in R to select specific objects that are nested. Think of our data frames from earlier during preprocessing and how each one has a column by row design - we can select specific columns by using ```vars_final$wd1``` to view ONLY that specific column. \n",
    "\n",
    "The same goes for lists except we are calling specific data frames this time. To pull the same column from ```varsList``` we would use ```varsList$wd$wd1``` because the column is nested within the data frame which is nested within the list. \n",
    "\n",
    "The great urban philosopher, Kendrick Lamar, once said, \"It's levels to it you and I know...\" He is indeed correct :) Take a peek at the ```comps``` data frame found within the ```varsList```."
   ]
  },
  {
   "cell_type": "code",
   "execution_count": 12,
   "metadata": {},
   "outputs": [
    {
     "name": "stdout",
     "output_type": "stream",
     "text": [
      "Rows: 56\n",
      "Columns: 5\n",
      "$ wd      \u001b[3m\u001b[38;5;246m<dbl>\u001b[39m\u001b[23m 3.000000, 2.555556, 2.555556, 2.666667, 2.777778, 2.666667, 2…\n",
      "$ open    \u001b[3m\u001b[38;5;246m<dbl>\u001b[39m\u001b[23m 3.5, 3.3, 3.7, 4.3, 4.1, 3.6, 4.6, 4.1, 3.7, 4.1, 3.8, 3.0, 3…\n",
      "$ org_eff \u001b[3m\u001b[38;5;246m<dbl>\u001b[39m\u001b[23m 3.166667, 2.833333, 3.166667, 2.666667, 3.500000, 2.333333, 3…\n",
      "$ job_sat \u001b[3m\u001b[38;5;246m<dbl>\u001b[39m\u001b[23m 3.250000, 4.500000, 4.583333, 3.166667, 5.666667, 3.500000, 3…\n",
      "$ cmfq    \u001b[3m\u001b[38;5;246m<dbl>\u001b[39m\u001b[23m 3.666667, 3.904762, 4.000000, 4.238095, 3.952381, 4.142857, 4…\n"
     ]
    }
   ],
   "source": [
    "glimpse(varsList$comps) #SUCCESS!"
   ]
  },
  {
   "cell_type": "code",
   "execution_count": 17,
   "metadata": {},
   "outputs": [],
   "source": [
    "#replace df with the name of the data set you want!\n",
    "#hint -- won't run\n",
    "# test = varsList$df\n",
    "# cor(test)"
   ]
  },
  {
   "cell_type": "markdown",
   "metadata": {},
   "source": [
    "### Discussion\n",
    "\n",
    "We have successfully preprocessed the data by updating the column labels, changed our string values to numerics, reversed coded specific items, separated each individual scale, and generated a data frame containing the scale composite scores. You have been introduced to different data structures (i.e., data frames & lists) and how to pull specific things from each one.\n",
    "\n",
    "That's quite a long and winding roller coaster ride which was hopefully more fun than terrifying. Now, it's your turn to use what we have done here to run some statistical analyses! If you have any questions, feel free to reach out to me via [email](mailto:dkgreen@ncsu.edu) - I will certainly try to respond within a reasonable time frame but please try not to simply hold-out for my reply. \n",
    "\n",
    "If you find yourself stuck, Google is your best friend and this document is chocked-full of the R terminology and vernacular to get you on the correct path. Effective Googling is an artisanal science as well."
   ]
  },
  {
   "cell_type": "markdown",
   "metadata": {},
   "source": [
    "### Hints\n",
    "\n",
    "Below are some useful tips functions that you may need to complete your analyses! \n",
    "\n",
    "If you need help determining what a particular function does or what is needed inside for it to run properly, try placing a ```?``` in front of the function (i.e., ```?cor```).\n",
    "\n",
    "#### Useful functions\n",
    "- cbind, cbind.data.frame\n",
    "- cor\n",
    "- corrplot\n",
    "- aov"
   ]
  },
  {
   "cell_type": "markdown",
   "metadata": {},
   "source": [
    "Let's say one wants to extract a specific data frame from a list, run a correlation analysis, and provide a cool plot -- one could go about such a problem by doing the following:"
   ]
  },
  {
   "cell_type": "code",
   "execution_count": 14,
   "metadata": {},
   "outputs": [],
   "source": [
    "##NOT RUN\n",
    "# new_df = list$df_of_interest\n",
    "# corrs = cor(new_df)\n",
    "# corrplot(corrs, method = \"color\")"
   ]
  },
  {
   "cell_type": "markdown",
   "metadata": {},
   "source": [
    "If I wanted to extract a specific column from one data frame and combine with another to run some kind of analysis (e.g., ANOVA), one could do the following:"
   ]
  },
  {
   "cell_type": "code",
   "execution_count": 15,
   "metadata": {},
   "outputs": [],
   "source": [
    "##NOT RUN\n",
    "# new_df = cbind(list$df_of_interest$column_of_interest1, \n",
    "#                list$df_of_interest$column_of_interest2, \n",
    "#                list$df_of_interest$column_of_interest3,)\n",
    "#\n",
    "#mod0 = aov(column_of_interest3 ~ column_of_interest1 + column_of_interest2)\n",
    "#summary(mod0)"
   ]
  }
 ],
 "metadata": {
  "kernelspec": {
   "display_name": "R",
   "language": "R",
   "name": "ir"
  },
  "language_info": {
   "codemirror_mode": "r",
   "file_extension": ".r",
   "mimetype": "text/x-r-source",
   "name": "R",
   "pygments_lexer": "r",
   "version": "3.6.3"
  }
 },
 "nbformat": 4,
 "nbformat_minor": 4
}
